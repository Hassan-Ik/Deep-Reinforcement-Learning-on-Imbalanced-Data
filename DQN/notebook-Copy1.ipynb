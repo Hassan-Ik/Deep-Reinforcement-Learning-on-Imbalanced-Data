{
 "cells": [
  {
   "cell_type": "markdown",
   "metadata": {},
   "source": [
    "# Deep Q Network Agent on Cassava Leaf Disease Imbalanced Dataset\n",
    "\n",
    "In this notebook, we are going to apply our custom created DQN Agent, on Casssava Leaf Disease Imabalnced Dataset and will try to get abetter accuracy on the classification for multi-class imbalanced classification"
   ]
  },
  {
   "cell_type": "code",
   "execution_count": null,
   "metadata": {},
   "outputs": [],
   "source": [
    "# Importing Libraries\n",
    "import tensorflow as tf\n",
    "import numpy as np\n",
    "import pandas as pd\n",
    "from sklearn.utils import shuffle\n",
    "from collections import deque\n",
    "import random\n",
    "from qnetwork import QNetwork\n",
    "from dataset import Cifar10ImageDataset, CassavaLeafDataset, PersonalityDataset\n",
    "from agent import DQNAgent\n",
    "from sklearn import metrics"
   ]
  },
  {
   "cell_type": "code",
   "execution_count": null,
   "metadata": {},
   "outputs": [],
   "source": [
    "dataset = PersonalityDataset(32)"
   ]
  },
  {
   "cell_type": "code",
   "execution_count": null,
   "metadata": {},
   "outputs": [
    {
     "name": "stdout",
     "output_type": "stream",
     "text": [
      "------------------------------------------------------------------------------------------------------\n",
      "Learning with 20\n",
      "Num GPUs Available:  0\n",
      "Model: \"sequential_2\"\n",
      "_________________________________________________________________\n",
      " Layer (type)                Output Shape              Param #   \n",
      "=================================================================\n",
      " dense_10 (Dense)            (None, 256)               15616     \n",
      "                                                                 \n",
      " dense_11 (Dense)            (None, 128)               32896     \n",
      "                                                                 \n",
      " dense_12 (Dense)            (None, 64)                8256      \n",
      "                                                                 \n",
      " dense_13 (Dense)            (None, 32)                2080      \n",
      "                                                                 \n",
      " dense_14 (Dense)            (None, 16)                528       \n",
      "                                                                 \n",
      "=================================================================\n",
      "Total params: 59376 (231.94 KB)\n",
      "Trainable params: 59376 (231.94 KB)\n",
      "Non-trainable params: 0 (0.00 Byte)\n",
      "_________________________________________________________________\n",
      "Model: \"sequential_3\"\n",
      "_________________________________________________________________\n",
      " Layer (type)                Output Shape              Param #   \n",
      "=================================================================\n",
      " dense_15 (Dense)            (None, 256)               15616     \n",
      "                                                                 \n",
      " dense_16 (Dense)            (None, 128)               32896     \n",
      "                                                                 \n",
      " dense_17 (Dense)            (None, 64)                8256      \n",
      "                                                                 \n",
      " dense_18 (Dense)            (None, 32)                2080      \n",
      "                                                                 \n",
      " dense_19 (Dense)            (None, 16)                528       \n",
      "                                                                 \n",
      "=================================================================\n",
      "Total params: 59376 (231.94 KB)\n",
      "Trainable params: 59376 (231.94 KB)\n",
      "Non-trainable params: 0 (0.00 Byte)\n",
      "_________________________________________________________________\n",
      "Total Reward: -0.482741 after 0 Episodes and epsilon is 1.0\n",
      "Total Reward: -0.20014300000000002 after 1 Episodes and epsilon is 1.0\n",
      "Total Reward: -0.08128 after 2 Episodes and epsilon is 1.0\n",
      "Total Reward: -0.43078299999999997 after 3 Episodes and epsilon is 1.0\n",
      "Total Reward: -0.483318 after 4 Episodes and epsilon is 1.0\n",
      "Total Reward: -0.32266300000000003 after 5 Episodes and epsilon is 1.0\n",
      "Total Reward: -0.603008 after 6 Episodes and epsilon is 1.0\n",
      "Total Reward: -0.484151 after 7 Episodes and epsilon is 1.0\n"
     ]
    },
    {
     "name": "stderr",
     "output_type": "stream",
     "text": [
      "C:\\Users\\hassa\\anaconda3\\Lib\\site-packages\\tensorflow\\python\\util\\dispatch.py:1260: SyntaxWarning: In loss categorical_crossentropy, expected y_pred.shape to be (batch_size, num_classes) with num_classes > 1. Received: y_pred.shape=(1,). Consider using 'binary_crossentropy' if you only have 2 classes.\n",
      "  return dispatch_target(*args, **kwargs)\n"
     ]
    },
    {
     "name": "stdout",
     "output_type": "stream",
     "text": [
      "Total Reward: -0.160745 after 8 Episodes and epsilon is 0.98618851\n",
      "Total Reward: -0.724625 after 9 Episodes and epsilon is 0.98422336\n",
      "Total Reward: -0.324277 after 10 Episodes and epsilon is 0.98226019\n",
      "Total Reward: -0.081199 after 11 Episodes and epsilon is 0.9802989999999999\n",
      "Total Reward: -0.442878 after 12 Episodes and epsilon is 0.97833979\n",
      "Total Reward: -0.243215 after 13 Episodes and epsilon is 0.97638256\n",
      "Total Reward: -0.082742 after 14 Episodes and epsilon is 0.9744273099999999\n",
      "Total Reward: -0.081199 after 15 Episodes and epsilon is 0.9724740399999999\n",
      "Total Reward: -0.486023 after 16 Episodes and epsilon is 0.97052275\n",
      "Total Reward: -0.28174699999999997 after 17 Episodes and epsilon is 0.96857344\n",
      "Total Reward: -0.200739 after 18 Episodes and epsilon is 0.96662611\n",
      "Total Reward: -0.323338 after 19 Episodes and epsilon is 0.9646807599999999\n",
      "Accuracy and Loss on 20 episodes learning\n",
      "Accuracy score on training dataset 6.466500858952334\n"
     ]
    }
   ],
   "source": [
    "episodes = [20, 50, 100, 200, 300]\n",
    "\n",
    "for episode in episodes:\n",
    "    print(\"------------------------------------------------------------------------------------------------------\")\n",
    "    print(f\"Learning with {episode}\")\n",
    "    network = QNetwork(state_size=(dataset.X.shape[1],), action_size=(len(np.unique(dataset.y))), learning_rate = 1e-4, image=False)\n",
    "    agent = DQNAgent(network, dataset, state_size=(dataset.X.shape[1],), action_size=(len(np.unique(dataset.y))), memory=deque(maxlen=5000), gamma = 0.95,epsilon=1.0)\n",
    "    agent.train_personality(episode, 100)\n",
    "    \n",
    "    # Testing the model\n",
    "    total_reward = 0\n",
    "    train_labels = []\n",
    "    train_predictions = []\n",
    "    test_labels = []\n",
    "    test_predictions = []\n",
    "    \n",
    "    for index, state in enumerate(agent.dataset.X_train):\n",
    "        label = agent.dataset.y_train[index]\n",
    "        state = np.reshape(state, [-1, agent.state_size[0]])\n",
    "        action = agent.act(state)\n",
    "        # action = np.argmax(self.network.model.predict(image), axis=1)\n",
    "        reward, terminal = agent.get_reward_and_terminal(label, action)\n",
    "        total_reward += reward\n",
    "        train_labels.append(label)\n",
    "        train_predictions.append(action)\n",
    "    \n",
    "    print(f\"Accuracy and Loss on {episode} episodes learning\")\n",
    "    print(\"Accuracy score on training dataset\", metrics.accuracy_score(train_labels, train_predictions) * 100)\n",
    "    agent.evaluate_personality()\n",
    "    print(\"------------------------------------------------------------------------------------------------------\")"
   ]
  },
  {
   "cell_type": "code",
   "execution_count": null,
   "metadata": {},
   "outputs": [],
   "source": [
    "# np.argmax(agent.network.model.predict(np.reshape(dataset.X_train[2110], (-1, 61)))[0])"
   ]
  },
  {
   "cell_type": "code",
   "execution_count": null,
   "metadata": {},
   "outputs": [],
   "source": []
  },
  {
   "cell_type": "code",
   "execution_count": null,
   "metadata": {},
   "outputs": [],
   "source": []
  },
  {
   "cell_type": "code",
   "execution_count": null,
   "metadata": {},
   "outputs": [],
   "source": []
  },
  {
   "cell_type": "code",
   "execution_count": null,
   "metadata": {},
   "outputs": [],
   "source": []
  },
  {
   "cell_type": "code",
   "execution_count": null,
   "metadata": {},
   "outputs": [],
   "source": [
    "len(train_labels), len(train_predictions)"
   ]
  },
  {
   "cell_type": "code",
   "execution_count": null,
   "metadata": {},
   "outputs": [],
   "source": []
  },
  {
   "cell_type": "code",
   "execution_count": null,
   "metadata": {},
   "outputs": [],
   "source": []
  },
  {
   "cell_type": "code",
   "execution_count": null,
   "metadata": {},
   "outputs": [],
   "source": [
    "agent.evaluate_personality()"
   ]
  },
  {
   "cell_type": "code",
   "execution_count": null,
   "metadata": {},
   "outputs": [],
   "source": [
    "image_size = (256, 256)\n",
    "channels = 3\n",
    "batch_size = 32\n",
    "action_size = 5\n",
    "\n",
    "gamma = 0.95\n",
    "epsilon = 1.0\n",
    "learning_rate = 1e-4\n",
    "\n",
    "episodes = 100"
   ]
  },
  {
   "cell_type": "code",
   "execution_count": null,
   "metadata": {},
   "outputs": [],
   "source": [
    "dataset = Cifar10ImageDataset(20)\n",
    "        \n",
    "network = DQNetwork(state_size=(32, 32, 3), action_size=10, learning_rate = 1e-4)\n",
    "\n",
    "agent = DQNAgent(network, dataset, state_size=(32, 32, 3), action_size = 10, memory=deque(maxlen=2000), gamma = 0.95,epsilon=1.0)\n",
    "agent.train_cifar10(50)\n",
    "# agent.save_model(\"./model/cifar10_model.h5\")\n"
   ]
  },
  {
   "cell_type": "code",
   "execution_count": null,
   "metadata": {},
   "outputs": [],
   "source": [
    "agent.evaluate_cifar10()"
   ]
  },
  {
   "cell_type": "code",
   "execution_count": null,
   "metadata": {},
   "outputs": [],
   "source": [
    "dataset = CassavaLeafDataset(image_size=image_size, batch_size=batch_size)"
   ]
  },
  {
   "cell_type": "code",
   "execution_count": null,
   "metadata": {},
   "outputs": [],
   "source": [
    "network = DQNetwork(state_size=(image_size[0], image_size[1], channels), action_size=action_size, learning_rate = learning_rate)"
   ]
  },
  {
   "cell_type": "code",
   "execution_count": null,
   "metadata": {},
   "outputs": [],
   "source": [
    "agent = DQNAgent(network, dataset, state_size=image_size + (channels), action_size=action_size, memory=deque(maxlen=2000), gamma=gamma, epsilon=epsilon)"
   ]
  },
  {
   "cell_type": "code",
   "execution_count": null,
   "metadata": {},
   "outputs": [],
   "source": [
    "agent.train(episodes)"
   ]
  },
  {
   "cell_type": "code",
   "execution_count": null,
   "metadata": {},
   "outputs": [],
   "source": [
    "agent.evaluate()  "
   ]
  }
 ],
 "metadata": {
  "kernelspec": {
   "display_name": "Python 3 (ipykernel)",
   "language": "python",
   "name": "python3"
  },
  "language_info": {
   "codemirror_mode": {
    "name": "ipython",
    "version": 3
   },
   "file_extension": ".py",
   "mimetype": "text/x-python",
   "name": "python",
   "nbconvert_exporter": "python",
   "pygments_lexer": "ipython3",
   "version": "3.11.5"
  }
 },
 "nbformat": 4,
 "nbformat_minor": 2
}
