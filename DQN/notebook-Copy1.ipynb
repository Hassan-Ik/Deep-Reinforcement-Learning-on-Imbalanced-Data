{
 "cells": [
  {
   "cell_type": "markdown",
   "metadata": {},
   "source": [
    "# Deep Q Network Agent on Cassava Leaf Disease Imbalanced Dataset\n",
    "\n",
    "In this notebook, we are going to apply our custom created DQN Agent, on Casssava Leaf Disease Imabalnced Dataset and will try to get abetter accuracy on the classification for multi-class imbalanced classification"
   ]
  },
  {
   "cell_type": "code",
   "execution_count": 1,
   "metadata": {},
   "outputs": [
    {
     "name": "stdout",
     "output_type": "stream",
     "text": [
      "WARNING:tensorflow:From C:\\Users\\hassa\\anaconda3\\Lib\\site-packages\\keras\\src\\losses.py:2976: The name tf.losses.sparse_softmax_cross_entropy is deprecated. Please use tf.compat.v1.losses.sparse_softmax_cross_entropy instead.\n",
      "\n"
     ]
    }
   ],
   "source": [
    "# Importing Libraries\n",
    "import tensorflow as tf\n",
    "import numpy as np\n",
    "import pandas as pd\n",
    "from sklearn.utils import shuffle\n",
    "from collections import deque\n",
    "import random\n",
    "from qnetwork import DQNetwork, DDQNetwork\n",
    "from dataset import Cifar10ImageDataset, CassavaLeafDataset, PersonalityDataset\n",
    "from agent import DQNAgent"
   ]
  },
  {
   "cell_type": "code",
   "execution_count": 2,
   "metadata": {},
   "outputs": [
    {
     "name": "stdout",
     "output_type": "stream",
     "text": [
      "       Response Id  You regularly make new friends.  \\\n",
      "0            False                            False   \n",
      "1            False                            False   \n",
      "2            False                            False   \n",
      "3            False                            False   \n",
      "4            False                            False   \n",
      "...            ...                              ...   \n",
      "59994        False                            False   \n",
      "59995        False                            False   \n",
      "59996        False                            False   \n",
      "59997        False                            False   \n",
      "59998        False                            False   \n",
      "\n",
      "       You spend a lot of your free time exploring various random topics that pique your interest  \\\n",
      "0                                                  False                                            \n",
      "1                                                  False                                            \n",
      "2                                                  False                                            \n",
      "3                                                  False                                            \n",
      "4                                                  False                                            \n",
      "...                                                  ...                                            \n",
      "59994                                              False                                            \n",
      "59995                                              False                                            \n",
      "59996                                              False                                            \n",
      "59997                                              False                                            \n",
      "59998                                              False                                            \n",
      "\n",
      "       Seeing other people cry can easily make you feel like you want to cry too  \\\n",
      "0                                                  False                           \n",
      "1                                                  False                           \n",
      "2                                                  False                           \n",
      "3                                                  False                           \n",
      "4                                                  False                           \n",
      "...                                                  ...                           \n",
      "59994                                              False                           \n",
      "59995                                              False                           \n",
      "59996                                              False                           \n",
      "59997                                              False                           \n",
      "59998                                              False                           \n",
      "\n",
      "       You often make a backup plan for a backup plan.  \\\n",
      "0                                                False   \n",
      "1                                                False   \n",
      "2                                                False   \n",
      "3                                                False   \n",
      "4                                                False   \n",
      "...                                                ...   \n",
      "59994                                            False   \n",
      "59995                                            False   \n",
      "59996                                            False   \n",
      "59997                                            False   \n",
      "59998                                            False   \n",
      "\n",
      "       You usually stay calm, even under a lot of pressure  \\\n",
      "0                                                  False     \n",
      "1                                                  False     \n",
      "2                                                  False     \n",
      "3                                                  False     \n",
      "4                                                  False     \n",
      "...                                                  ...     \n",
      "59994                                              False     \n",
      "59995                                              False     \n",
      "59996                                              False     \n",
      "59997                                              False     \n",
      "59998                                              False     \n",
      "\n",
      "       At social events, you rarely try to introduce yourself to new people and mostly talk to the ones you already know  \\\n",
      "0                                                  False                                                                   \n",
      "1                                                  False                                                                   \n",
      "2                                                  False                                                                   \n",
      "3                                                  False                                                                   \n",
      "4                                                  False                                                                   \n",
      "...                                                  ...                                                                   \n",
      "59994                                              False                                                                   \n",
      "59995                                              False                                                                   \n",
      "59996                                              False                                                                   \n",
      "59997                                              False                                                                   \n",
      "59998                                              False                                                                   \n",
      "\n",
      "       You prefer to completely finish one project before starting another.  \\\n",
      "0                                                  False                      \n",
      "1                                                  False                      \n",
      "2                                                  False                      \n",
      "3                                                  False                      \n",
      "4                                                  False                      \n",
      "...                                                  ...                      \n",
      "59994                                              False                      \n",
      "59995                                              False                      \n",
      "59996                                              False                      \n",
      "59997                                              False                      \n",
      "59998                                              False                      \n",
      "\n",
      "       You are very sentimental.  \\\n",
      "0                          False   \n",
      "1                          False   \n",
      "2                          False   \n",
      "3                          False   \n",
      "4                          False   \n",
      "...                          ...   \n",
      "59994                      False   \n",
      "59995                      False   \n",
      "59996                      False   \n",
      "59997                      False   \n",
      "59998                      False   \n",
      "\n",
      "       You like to use organizing tools like schedules and lists.  ...  \\\n",
      "0                                                  False           ...   \n",
      "1                                                  False           ...   \n",
      "2                                                  False           ...   \n",
      "3                                                  False           ...   \n",
      "4                                                  False           ...   \n",
      "...                                                  ...           ...   \n",
      "59994                                              False           ...   \n",
      "59995                                              False           ...   \n",
      "59996                                              False           ...   \n",
      "59997                                              False           ...   \n",
      "59998                                              False           ...   \n",
      "\n",
      "       You believe that pondering abstract philosophical questions is a waste of time.  \\\n",
      "0                                                  False                                 \n",
      "1                                                  False                                 \n",
      "2                                                  False                                 \n",
      "3                                                  False                                 \n",
      "4                                                  False                                 \n",
      "...                                                  ...                                 \n",
      "59994                                              False                                 \n",
      "59995                                              False                                 \n",
      "59996                                              False                                 \n",
      "59997                                              False                                 \n",
      "59998                                              False                                 \n",
      "\n",
      "       You feel more drawn to places with busy, bustling atmospheres than quiet, intimate places.  \\\n",
      "0                                                  False                                            \n",
      "1                                                  False                                            \n",
      "2                                                  False                                            \n",
      "3                                                  False                                            \n",
      "4                                                  False                                            \n",
      "...                                                  ...                                            \n",
      "59994                                              False                                            \n",
      "59995                                              False                                            \n",
      "59996                                              False                                            \n",
      "59997                                              False                                            \n",
      "59998                                              False                                            \n",
      "\n",
      "       You know at first glance how someone is feeling.  \\\n",
      "0                                                 False   \n",
      "1                                                 False   \n",
      "2                                                 False   \n",
      "3                                                 False   \n",
      "4                                                 False   \n",
      "...                                                 ...   \n",
      "59994                                             False   \n",
      "59995                                             False   \n",
      "59996                                             False   \n",
      "59997                                             False   \n",
      "59998                                             False   \n",
      "\n",
      "       You often feel overwhelmed.  \\\n",
      "0                            False   \n",
      "1                            False   \n",
      "2                            False   \n",
      "3                            False   \n",
      "4                            False   \n",
      "...                            ...   \n",
      "59994                        False   \n",
      "59995                        False   \n",
      "59996                        False   \n",
      "59997                        False   \n",
      "59998                        False   \n",
      "\n",
      "       You complete things methodically without skipping over any steps.  \\\n",
      "0                                                  False                   \n",
      "1                                                  False                   \n",
      "2                                                  False                   \n",
      "3                                                  False                   \n",
      "4                                                  False                   \n",
      "...                                                  ...                   \n",
      "59994                                              False                   \n",
      "59995                                              False                   \n",
      "59996                                              False                   \n",
      "59997                                              False                   \n",
      "59998                                              False                   \n",
      "\n",
      "       You are very intrigued by things labeled as controversial.  \\\n",
      "0                                                  False            \n",
      "1                                                  False            \n",
      "2                                                  False            \n",
      "3                                                  False            \n",
      "4                                                  False            \n",
      "...                                                  ...            \n",
      "59994                                              False            \n",
      "59995                                              False            \n",
      "59996                                              False            \n",
      "59997                                              False            \n",
      "59998                                              False            \n",
      "\n",
      "       You would pass along a good opportunity if you thought someone else needed it more.  \\\n",
      "0                                                  False                                     \n",
      "1                                                  False                                     \n",
      "2                                                  False                                     \n",
      "3                                                  False                                     \n",
      "4                                                  False                                     \n",
      "...                                                  ...                                     \n",
      "59994                                              False                                     \n",
      "59995                                              False                                     \n",
      "59996                                              False                                     \n",
      "59997                                              False                                     \n",
      "59998                                              False                                     \n",
      "\n",
      "       You struggle with deadlines.  \\\n",
      "0                             False   \n",
      "1                             False   \n",
      "2                             False   \n",
      "3                             False   \n",
      "4                             False   \n",
      "...                             ...   \n",
      "59994                         False   \n",
      "59995                         False   \n",
      "59996                         False   \n",
      "59997                         False   \n",
      "59998                         False   \n",
      "\n",
      "       You feel confident that things will work out for you.  Personality  \n",
      "0                                                  False            False  \n",
      "1                                                  False            False  \n",
      "2                                                  False            False  \n",
      "3                                                  False            False  \n",
      "4                                                  False            False  \n",
      "...                                                  ...              ...  \n",
      "59994                                              False            False  \n",
      "59995                                              False            False  \n",
      "59996                                              False            False  \n",
      "59997                                              False            False  \n",
      "59998                                              False            False  \n",
      "\n",
      "[59999 rows x 62 columns]\n",
      "\n",
      "Reward for each class.\n",
      "\t- Class 0 : 0.803622\n",
      "\t- Class 1 : 0.404499\n",
      "\t- Class 2 : 0.268767\n",
      "\t- Class 3 : 0.200739\n",
      "\t- Class 4 : 0.081280\n",
      "\t- Class 5 : 0.081199\n",
      "\t- Class 6 : 0.080096\n",
      "\t- Class 7 : 0.081280\n",
      "\t- Class 8 : 0.081008\n",
      "\t- Class 9 : 0.081035\n",
      "\t- Class 10 : 0.079465\n",
      "\t- Class 11 : 0.080684\n",
      "\t- Class 12 : 0.081008\n",
      "\t- Class 13 : 0.080603\n",
      "\t- Class 14 : 0.080202\n",
      "\t- Class 15 : 0.079832\n"
     ]
    },
    {
     "name": "stdout",
     "output_type": "stream",
     "text": [
      "Label is  ['ENFJ' 'ENFP' 'ENTJ' 'ENTP' 'ESFJ' 'ESFP' 'ESTJ' 'ESTP' 'INFJ' 'INFP'\n",
      " 'INTJ' 'INTP' 'ISFJ' 'ISFP' 'ISTJ' 'ISTP']\n",
      "Labels with count {'ENFJ': 3743, 'ENFP': 3760, 'ENTJ': 3737, 'ENTP': 3760, 'ESFJ': 3746, 'ESFP': 3769, 'ESTJ': 3759, 'ESTP': 3749, 'INFJ': 3761, 'INFP': 3734, 'INTJ': 3743, 'INTP': 3742, 'ISFJ': 3739, 'ISFP': 3746, 'ISTJ': 3756, 'ISTP': 3755}\n"
     ]
    }
   ],
   "source": [
    "dataset = PersonalityDataset(32)"
   ]
  },
  {
   "cell_type": "code",
   "execution_count": null,
   "metadata": {},
   "outputs": [],
   "source": [
    "dataset.X_train.shape"
   ]
  },
  {
   "cell_type": "code",
   "execution_count": null,
   "metadata": {},
   "outputs": [],
   "source": []
  },
  {
   "cell_type": "code",
   "execution_count": 3,
   "metadata": {},
   "outputs": [
    {
     "name": "stdout",
     "output_type": "stream",
     "text": [
      "Num GPUs Available:  0\n",
      "WARNING:tensorflow:From C:\\Users\\hassa\\anaconda3\\Lib\\site-packages\\keras\\src\\backend.py:873: The name tf.get_default_graph is deprecated. Please use tf.compat.v1.get_default_graph instead.\n",
      "\n",
      "WARNING:tensorflow:From C:\\Users\\hassa\\anaconda3\\Lib\\site-packages\\keras\\src\\optimizers\\__init__.py:309: The name tf.train.Optimizer is deprecated. Please use tf.compat.v1.train.Optimizer instead.\n",
      "\n",
      "Model: \"sequential\"\n",
      "_________________________________________________________________\n",
      " Layer (type)                Output Shape              Param #   \n",
      "=================================================================\n",
      " dense (Dense)               (None, 64)                3968      \n",
      "                                                                 \n",
      " dense_1 (Dense)             (None, 32)                2080      \n",
      "                                                                 \n",
      " dense_2 (Dense)             (None, 16)                528       \n",
      "                                                                 \n",
      "=================================================================\n",
      "Total params: 6576 (25.69 KB)\n",
      "Trainable params: 6576 (25.69 KB)\n",
      "Non-trainable params: 0 (0.00 Byte)\n",
      "_________________________________________________________________\n"
     ]
    }
   ],
   "source": [
    "network = DQNetwork(state_size=(dataset.X.shape[1],), action_size=(len(np.unique(dataset.y))), learning_rate = 1e-4, image=False)"
   ]
  },
  {
   "cell_type": "code",
   "execution_count": null,
   "metadata": {},
   "outputs": [],
   "source": []
  },
  {
   "cell_type": "code",
   "execution_count": null,
   "metadata": {},
   "outputs": [],
   "source": [
    "# np.argmax(agent.network.model.predict(np.reshape(dataset.X_train[2110], (-1, 61)))[0])"
   ]
  },
  {
   "cell_type": "code",
   "execution_count": 4,
   "metadata": {},
   "outputs": [
    {
     "name": "stdout",
     "output_type": "stream",
     "text": [
      "Total Reward: -9.149288999999996 after 0 Episodes\n",
      "WARNING:tensorflow:From C:\\Users\\hassa\\anaconda3\\Lib\\site-packages\\keras\\src\\utils\\tf_utils.py:492: The name tf.ragged.RaggedTensorValue is deprecated. Please use tf.compat.v1.ragged.RaggedTensorValue instead.\n",
      "\n",
      "WARNING:tensorflow:From C:\\Users\\hassa\\anaconda3\\Lib\\site-packages\\keras\\src\\engine\\base_layer_utils.py:384: The name tf.executing_eagerly_outside_functions is deprecated. Please use tf.compat.v1.executing_eagerly_outside_functions instead.\n",
      "\n",
      "Total Reward: -9.65644499999999 after 1 Episodes\n",
      "Total Reward: -8.967964999999998 after 2 Episodes\n",
      "Total Reward: -8.181131999999993 after 3 Episodes\n",
      "Total Reward: -11.151064 after 4 Episodes\n",
      "Total Reward: -9.685094999999997 after 5 Episodes\n",
      "Total Reward: -9.84988599999999 after 6 Episodes\n",
      "Total Reward: -8.562911999999997 after 7 Episodes\n",
      "Total Reward: -9.674659999999992 after 8 Episodes\n",
      "Total Reward: -8.795085999999994 after 9 Episodes\n",
      "Total Reward: -9.733071999999998 after 10 Episodes\n",
      "Total Reward: -6.839139999999995 after 11 Episodes\n",
      "Total Reward: -8.07886899999999 after 12 Episodes\n",
      "Total Reward: -7.911084999999992 after 13 Episodes\n",
      "Total Reward: -8.732285999999995 after 14 Episodes\n",
      "Total Reward: -8.252010999999992 after 15 Episodes\n",
      "Total Reward: -9.001886999999995 after 16 Episodes\n",
      "Total Reward: -7.888559999999991 after 17 Episodes\n",
      "Total Reward: -9.232817999999993 after 18 Episodes\n",
      "Total Reward: -10.805438999999996 after 19 Episodes\n"
     ]
    }
   ],
   "source": [
    "agent = DQNAgent(network, dataset, state_size=(dataset.X.shape[1],), action_size=(len(np.unique(dataset.y))), memory=deque(maxlen=2000), gamma = 0.95,epsilon=1.0)\n",
    "agent.train_personality(20, 100) "
   ]
  },
  {
   "cell_type": "code",
   "execution_count": null,
   "metadata": {},
   "outputs": [],
   "source": [
    "# Testing the model\n",
    "total_reward = 0\n",
    "train_labels = []\n",
    "train_predictions = []\n",
    "test_labels = []\n",
    "test_predictions = []\n",
    "\n",
    "for index, state in enumerate(agent.dataset.X_train):\n",
    "    label = agent.dataset.y_train[index]\n",
    "    state = np.reshape(state, [-1, agent.state_size[0]])\n",
    "    action = agent.act(state)\n",
    "    # action = np.argmax(self.network.model.predict(image), axis=1)\n",
    "    reward, terminal = agent.get_reward_and_terminal(label, action)\n",
    "    total_reward += reward\n",
    "    train_labels.append(label)\n",
    "    train_predictions.append(action)"
   ]
  },
  {
   "cell_type": "code",
   "execution_count": null,
   "metadata": {},
   "outputs": [],
   "source": [
    "from sklearn import metrics"
   ]
  },
  {
   "cell_type": "code",
   "execution_count": null,
   "metadata": {},
   "outputs": [],
   "source": [
    "metrics.accuracy_score(train_labels, train_predictions) * 100"
   ]
  },
  {
   "cell_type": "code",
   "execution_count": null,
   "metadata": {},
   "outputs": [],
   "source": [
    "agent.evaluate_personality()"
   ]
  },
  {
   "cell_type": "code",
   "execution_count": null,
   "metadata": {},
   "outputs": [],
   "source": [
    "image_size = (256, 256)\n",
    "channels = 3\n",
    "batch_size = 32\n",
    "action_size = 5\n",
    "\n",
    "gamma = 0.95\n",
    "epsilon = 1.0\n",
    "learning_rate = 1e-4\n",
    "\n",
    "episodes = 100"
   ]
  },
  {
   "cell_type": "code",
   "execution_count": null,
   "metadata": {},
   "outputs": [],
   "source": [
    "dataset = Cifar10ImageDataset(20)\n",
    "        \n",
    "network = DQNetwork(state_size=(32, 32, 3), action_size=10, learning_rate = 1e-4)\n",
    "\n",
    "agent = DQNAgent(network, dataset, state_size=(32, 32, 3), action_size = 10, memory=deque(maxlen=2000), gamma = 0.95,epsilon=1.0)\n",
    "agent.train_cifar10(50)\n",
    "# agent.save_model(\"./model/cifar10_model.h5\")\n"
   ]
  },
  {
   "cell_type": "code",
   "execution_count": null,
   "metadata": {},
   "outputs": [],
   "source": [
    "agent.evaluate_cifar10()"
   ]
  },
  {
   "cell_type": "code",
   "execution_count": null,
   "metadata": {},
   "outputs": [],
   "source": [
    "dataset = CassavaLeafDataset(image_size=image_size, batch_size=batch_size)"
   ]
  },
  {
   "cell_type": "code",
   "execution_count": null,
   "metadata": {},
   "outputs": [],
   "source": [
    "network = DQNetwork(state_size=(image_size[0], image_size[1], channels), action_size=action_size, learning_rate = learning_rate)"
   ]
  },
  {
   "cell_type": "code",
   "execution_count": null,
   "metadata": {},
   "outputs": [],
   "source": [
    "agent = DQNAgent(network, dataset, state_size=image_size + (channels), action_size=action_size, memory=deque(maxlen=2000), gamma=gamma, epsilon=epsilon)"
   ]
  },
  {
   "cell_type": "code",
   "execution_count": null,
   "metadata": {},
   "outputs": [],
   "source": [
    "agent.train(episodes)"
   ]
  },
  {
   "cell_type": "code",
   "execution_count": null,
   "metadata": {},
   "outputs": [],
   "source": [
    "agent.evaluate()  "
   ]
  }
 ],
 "metadata": {
  "kernelspec": {
   "display_name": "Python 3 (ipykernel)",
   "language": "python",
   "name": "python3"
  },
  "language_info": {
   "codemirror_mode": {
    "name": "ipython",
    "version": 3
   },
   "file_extension": ".py",
   "mimetype": "text/x-python",
   "name": "python",
   "nbconvert_exporter": "python",
   "pygments_lexer": "ipython3",
   "version": "3.11.5"
  }
 },
 "nbformat": 4,
 "nbformat_minor": 2
}
