{
 "cells": [
  {
   "cell_type": "markdown",
   "metadata": {},
   "source": [
    "# Deep Q Network Agent on Cassava Leaf Disease Imbalanced Dataset\n",
    "\n",
    "In this notebook, we are going to apply our custom created DQN Agent, on Casssava Leaf Disease Imabalnced Dataset and will try to get abetter accuracy on the classification for multi-class imbalanced classification"
   ]
  },
  {
   "cell_type": "code",
   "execution_count": 1,
   "metadata": {},
   "outputs": [
    {
     "name": "stdout",
     "output_type": "stream",
     "text": [
      "WARNING:tensorflow:From C:\\Users\\hassa\\anaconda3\\Lib\\site-packages\\keras\\src\\losses.py:2976: The name tf.losses.sparse_softmax_cross_entropy is deprecated. Please use tf.compat.v1.losses.sparse_softmax_cross_entropy instead.\n",
      "\n"
     ]
    }
   ],
   "source": [
    "# Importing Libraries\n",
    "import tensorflow as tf\n",
    "import numpy as np\n",
    "import pandas as pd\n",
    "from sklearn.utils import shuffle\n",
    "from collections import deque\n",
    "import random\n",
    "from qnetwork import DQNetwork\n",
    "from dataset import Cifar10ImageDataset, CassavaLeafDataset, PersonalityDataset\n",
    "from agent import DQNAgent"
   ]
  },
  {
   "cell_type": "code",
   "execution_count": 2,
   "metadata": {},
   "outputs": [
    {
     "name": "stdout",
     "output_type": "stream",
     "text": [
      "       Response Id  You regularly make new friends.  \\\n",
      "0            False                            False   \n",
      "1            False                            False   \n",
      "2            False                            False   \n",
      "3            False                            False   \n",
      "4            False                            False   \n",
      "...            ...                              ...   \n",
      "59994        False                            False   \n",
      "59995        False                            False   \n",
      "59996        False                            False   \n",
      "59997        False                            False   \n",
      "59998        False                            False   \n",
      "\n",
      "       You spend a lot of your free time exploring various random topics that pique your interest  \\\n",
      "0                                                  False                                            \n",
      "1                                                  False                                            \n",
      "2                                                  False                                            \n",
      "3                                                  False                                            \n",
      "4                                                  False                                            \n",
      "...                                                  ...                                            \n",
      "59994                                              False                                            \n",
      "59995                                              False                                            \n",
      "59996                                              False                                            \n",
      "59997                                              False                                            \n",
      "59998                                              False                                            \n",
      "\n",
      "       Seeing other people cry can easily make you feel like you want to cry too  \\\n",
      "0                                                  False                           \n",
      "1                                                  False                           \n",
      "2                                                  False                           \n",
      "3                                                  False                           \n",
      "4                                                  False                           \n",
      "...                                                  ...                           \n",
      "59994                                              False                           \n",
      "59995                                              False                           \n",
      "59996                                              False                           \n",
      "59997                                              False                           \n",
      "59998                                              False                           \n",
      "\n",
      "       You often make a backup plan for a backup plan.  \\\n",
      "0                                                False   \n",
      "1                                                False   \n",
      "2                                                False   \n",
      "3                                                False   \n",
      "4                                                False   \n",
      "...                                                ...   \n",
      "59994                                            False   \n",
      "59995                                            False   \n",
      "59996                                            False   \n",
      "59997                                            False   \n",
      "59998                                            False   \n",
      "\n",
      "       You usually stay calm, even under a lot of pressure  \\\n",
      "0                                                  False     \n",
      "1                                                  False     \n",
      "2                                                  False     \n",
      "3                                                  False     \n",
      "4                                                  False     \n",
      "...                                                  ...     \n",
      "59994                                              False     \n",
      "59995                                              False     \n",
      "59996                                              False     \n",
      "59997                                              False     \n",
      "59998                                              False     \n",
      "\n",
      "       At social events, you rarely try to introduce yourself to new people and mostly talk to the ones you already know  \\\n",
      "0                                                  False                                                                   \n",
      "1                                                  False                                                                   \n",
      "2                                                  False                                                                   \n",
      "3                                                  False                                                                   \n",
      "4                                                  False                                                                   \n",
      "...                                                  ...                                                                   \n",
      "59994                                              False                                                                   \n",
      "59995                                              False                                                                   \n",
      "59996                                              False                                                                   \n",
      "59997                                              False                                                                   \n",
      "59998                                              False                                                                   \n",
      "\n",
      "       You prefer to completely finish one project before starting another.  \\\n",
      "0                                                  False                      \n",
      "1                                                  False                      \n",
      "2                                                  False                      \n",
      "3                                                  False                      \n",
      "4                                                  False                      \n",
      "...                                                  ...                      \n",
      "59994                                              False                      \n",
      "59995                                              False                      \n",
      "59996                                              False                      \n",
      "59997                                              False                      \n",
      "59998                                              False                      \n",
      "\n",
      "       You are very sentimental.  \\\n",
      "0                          False   \n",
      "1                          False   \n",
      "2                          False   \n",
      "3                          False   \n",
      "4                          False   \n",
      "...                          ...   \n",
      "59994                      False   \n",
      "59995                      False   \n",
      "59996                      False   \n",
      "59997                      False   \n",
      "59998                      False   \n",
      "\n",
      "       You like to use organizing tools like schedules and lists.  ...  \\\n",
      "0                                                  False           ...   \n",
      "1                                                  False           ...   \n",
      "2                                                  False           ...   \n",
      "3                                                  False           ...   \n",
      "4                                                  False           ...   \n",
      "...                                                  ...           ...   \n",
      "59994                                              False           ...   \n",
      "59995                                              False           ...   \n",
      "59996                                              False           ...   \n",
      "59997                                              False           ...   \n",
      "59998                                              False           ...   \n",
      "\n",
      "       You believe that pondering abstract philosophical questions is a waste of time.  \\\n",
      "0                                                  False                                 \n",
      "1                                                  False                                 \n",
      "2                                                  False                                 \n",
      "3                                                  False                                 \n",
      "4                                                  False                                 \n",
      "...                                                  ...                                 \n",
      "59994                                              False                                 \n",
      "59995                                              False                                 \n",
      "59996                                              False                                 \n",
      "59997                                              False                                 \n",
      "59998                                              False                                 \n",
      "\n",
      "       You feel more drawn to places with busy, bustling atmospheres than quiet, intimate places.  \\\n",
      "0                                                  False                                            \n",
      "1                                                  False                                            \n",
      "2                                                  False                                            \n",
      "3                                                  False                                            \n",
      "4                                                  False                                            \n",
      "...                                                  ...                                            \n",
      "59994                                              False                                            \n",
      "59995                                              False                                            \n",
      "59996                                              False                                            \n",
      "59997                                              False                                            \n",
      "59998                                              False                                            \n",
      "\n",
      "       You know at first glance how someone is feeling.  \\\n",
      "0                                                 False   \n",
      "1                                                 False   \n",
      "2                                                 False   \n",
      "3                                                 False   \n",
      "4                                                 False   \n",
      "...                                                 ...   \n",
      "59994                                             False   \n",
      "59995                                             False   \n",
      "59996                                             False   \n",
      "59997                                             False   \n",
      "59998                                             False   \n",
      "\n",
      "       You often feel overwhelmed.  \\\n",
      "0                            False   \n",
      "1                            False   \n",
      "2                            False   \n",
      "3                            False   \n",
      "4                            False   \n",
      "...                            ...   \n",
      "59994                        False   \n",
      "59995                        False   \n",
      "59996                        False   \n",
      "59997                        False   \n",
      "59998                        False   \n",
      "\n",
      "       You complete things methodically without skipping over any steps.  \\\n",
      "0                                                  False                   \n",
      "1                                                  False                   \n",
      "2                                                  False                   \n",
      "3                                                  False                   \n",
      "4                                                  False                   \n",
      "...                                                  ...                   \n",
      "59994                                              False                   \n",
      "59995                                              False                   \n",
      "59996                                              False                   \n",
      "59997                                              False                   \n",
      "59998                                              False                   \n",
      "\n",
      "       You are very intrigued by things labeled as controversial.  \\\n",
      "0                                                  False            \n",
      "1                                                  False            \n",
      "2                                                  False            \n",
      "3                                                  False            \n",
      "4                                                  False            \n",
      "...                                                  ...            \n",
      "59994                                              False            \n",
      "59995                                              False            \n",
      "59996                                              False            \n",
      "59997                                              False            \n",
      "59998                                              False            \n",
      "\n",
      "       You would pass along a good opportunity if you thought someone else needed it more.  \\\n",
      "0                                                  False                                     \n",
      "1                                                  False                                     \n",
      "2                                                  False                                     \n",
      "3                                                  False                                     \n",
      "4                                                  False                                     \n",
      "...                                                  ...                                     \n",
      "59994                                              False                                     \n",
      "59995                                              False                                     \n",
      "59996                                              False                                     \n",
      "59997                                              False                                     \n",
      "59998                                              False                                     \n",
      "\n",
      "       You struggle with deadlines.  \\\n",
      "0                             False   \n",
      "1                             False   \n",
      "2                             False   \n",
      "3                             False   \n",
      "4                             False   \n",
      "...                             ...   \n",
      "59994                         False   \n",
      "59995                         False   \n",
      "59996                         False   \n",
      "59997                         False   \n",
      "59998                         False   \n",
      "\n",
      "       You feel confident that things will work out for you.  Personality  \n",
      "0                                                  False            False  \n",
      "1                                                  False            False  \n",
      "2                                                  False            False  \n",
      "3                                                  False            False  \n",
      "4                                                  False            False  \n",
      "...                                                  ...              ...  \n",
      "59994                                              False            False  \n",
      "59995                                              False            False  \n",
      "59996                                              False            False  \n",
      "59997                                              False            False  \n",
      "59998                                              False            False  \n",
      "\n",
      "[59999 rows x 62 columns]\n",
      "\n",
      "Reward for each class.\n",
      "\t- Class 0 : 0.803622\n",
      "\t- Class 1 : 0.404499\n",
      "\t- Class 2 : 0.268767\n",
      "\t- Class 3 : 0.200739\n",
      "\t- Class 4 : 0.081280\n",
      "\t- Class 5 : 0.081199\n",
      "\t- Class 6 : 0.080096\n",
      "\t- Class 7 : 0.081280\n",
      "\t- Class 8 : 0.081008\n",
      "\t- Class 9 : 0.081035\n",
      "\t- Class 10 : 0.079465\n",
      "\t- Class 11 : 0.080684\n",
      "\t- Class 12 : 0.081008\n",
      "\t- Class 13 : 0.080603\n",
      "\t- Class 14 : 0.080202\n",
      "\t- Class 15 : 0.079832\n"
     ]
    },
    {
     "name": "stdout",
     "output_type": "stream",
     "text": [
      "Label is  ['ENFJ' 'ENFP' 'ENTJ' 'ENTP' 'ESFJ' 'ESFP' 'ESTJ' 'ESTP' 'INFJ' 'INFP'\n",
      " 'INTJ' 'INTP' 'ISFJ' 'ISFP' 'ISTJ' 'ISTP']\n",
      "Labels with count {'ENFJ': 3743, 'ENFP': 3760, 'ENTJ': 3737, 'ENTP': 3760, 'ESFJ': 3746, 'ESFP': 3769, 'ESTJ': 3759, 'ESTP': 3749, 'INFJ': 3761, 'INFP': 3734, 'INTJ': 3743, 'INTP': 3742, 'ISFJ': 3739, 'ISFP': 3746, 'ISTJ': 3756, 'ISTP': 3755}\n"
     ]
    }
   ],
   "source": [
    "dataset = PersonalityDataset()"
   ]
  },
  {
   "cell_type": "code",
   "execution_count": 3,
   "metadata": {},
   "outputs": [
    {
     "data": {
      "text/plain": [
       "(39001, 61)"
      ]
     },
     "execution_count": 3,
     "metadata": {},
     "output_type": "execute_result"
    }
   ],
   "source": [
    "dataset.X_train.shape"
   ]
  },
  {
   "cell_type": "code",
   "execution_count": 4,
   "metadata": {},
   "outputs": [
    {
     "data": {
      "text/plain": [
       "(39001, 61)"
      ]
     },
     "execution_count": 4,
     "metadata": {},
     "output_type": "execute_result"
    }
   ],
   "source": [
    "dataset.X_train.shape"
   ]
  },
  {
   "cell_type": "code",
   "execution_count": 5,
   "metadata": {},
   "outputs": [
    {
     "name": "stdout",
     "output_type": "stream",
     "text": [
      "Num GPUs Available:  0\n",
      "WARNING:tensorflow:From C:\\Users\\hassa\\anaconda3\\Lib\\site-packages\\keras\\src\\backend.py:873: The name tf.get_default_graph is deprecated. Please use tf.compat.v1.get_default_graph instead.\n",
      "\n",
      "WARNING:tensorflow:From C:\\Users\\hassa\\anaconda3\\Lib\\site-packages\\keras\\src\\optimizers\\__init__.py:309: The name tf.train.Optimizer is deprecated. Please use tf.compat.v1.train.Optimizer instead.\n",
      "\n",
      "Model: \"sequential\"\n",
      "_________________________________________________________________\n",
      " Layer (type)                Output Shape              Param #   \n",
      "=================================================================\n",
      " dense (Dense)               (None, 64)                3968      \n",
      "                                                                 \n",
      " dense_1 (Dense)             (None, 32)                2080      \n",
      "                                                                 \n",
      " dense_2 (Dense)             (None, 16)                528       \n",
      "                                                                 \n",
      "=================================================================\n",
      "Total params: 6576 (25.69 KB)\n",
      "Trainable params: 6576 (25.69 KB)\n",
      "Non-trainable params: 0 (0.00 Byte)\n",
      "_________________________________________________________________\n"
     ]
    }
   ],
   "source": [
    "network = DQNetwork(state_size=(dataset.X.shape[1],), action_size=(len(np.unique(dataset.y))), learning_rate = 1e-4, image=False)"
   ]
  },
  {
   "cell_type": "code",
   "execution_count": null,
   "metadata": {},
   "outputs": [],
   "source": [
    "\"HAHAHA\""
   ]
  },
  {
   "cell_type": "code",
   "execution_count": null,
   "metadata": {},
   "outputs": [],
   "source": [
    "# np.argmax(agent.network.model.predict(np.reshape(dataset.X_train[2110], (-1, 61)))[0])"
   ]
  },
  {
   "cell_type": "code",
   "execution_count": null,
   "metadata": {},
   "outputs": [
    {
     "name": "stdout",
     "output_type": "stream",
     "text": [
      "Total Reward: -11.933011999999998 after 0 Episodes\n",
      "WARNING:tensorflow:From C:\\Users\\hassa\\anaconda3\\Lib\\site-packages\\keras\\src\\utils\\tf_utils.py:492: The name tf.ragged.RaggedTensorValue is deprecated. Please use tf.compat.v1.ragged.RaggedTensorValue instead.\n",
      "\n",
      "WARNING:tensorflow:From C:\\Users\\hassa\\anaconda3\\Lib\\site-packages\\keras\\src\\engine\\base_layer_utils.py:384: The name tf.executing_eagerly_outside_functions is deprecated. Please use tf.compat.v1.executing_eagerly_outside_functions instead.\n",
      "\n",
      "Total Reward: -10.123250999999993 after 1 Episodes\n",
      "Total Reward: -9.762504999999994 after 2 Episodes\n",
      "Total Reward: -9.816618999999996 after 3 Episodes\n",
      "Total Reward: -9.172118999999995 after 4 Episodes\n",
      "Total Reward: -8.931469999999994 after 5 Episodes\n",
      "Total Reward: -7.605512999999993 after 6 Episodes\n",
      "Total Reward: -7.245983999999993 after 7 Episodes\n",
      "Total Reward: -9.210388999999994 after 8 Episodes\n",
      "Total Reward: -7.809812999999995 after 9 Episodes\n",
      "Total Reward: -8.627001999999994 after 10 Episodes\n",
      "Total Reward: -8.607408999999992 after 11 Episodes\n",
      "Total Reward: -8.604114 after 12 Episodes\n",
      "Total Reward: -9.623573999999996 after 13 Episodes\n",
      "Total Reward: -8.796303999999992 after 14 Episodes\n",
      "Total Reward: -9.143724999999991 after 15 Episodes\n",
      "Total Reward: -7.665014999999994 after 16 Episodes\n",
      "Total Reward: -8.962375999999994 after 17 Episodes\n",
      "Total Reward: -8.470522999999995 after 18 Episodes\n",
      "Total Reward: -9.157208999999993 after 19 Episodes\n",
      "Total Reward: -8.300781999999993 after 20 Episodes\n",
      "Total Reward: -7.324022999999996 after 21 Episodes\n",
      "Total Reward: -7.841769999999993 after 22 Episodes\n",
      "Total Reward: -7.419545999999993 after 23 Episodes\n",
      "Total Reward: -9.393172999999999 after 24 Episodes\n",
      "Total Reward: -7.868178999999994 after 25 Episodes\n",
      "Total Reward: -9.164121999999994 after 26 Episodes\n",
      "Total Reward: -8.248893999999995 after 27 Episodes\n",
      "Total Reward: -9.638642999999993 after 28 Episodes\n",
      "Total Reward: -9.376852999999993 after 29 Episodes\n",
      "Total Reward: -8.165759999999995 after 30 Episodes\n",
      "Total Reward: -9.372466999999991 after 31 Episodes\n",
      "Total Reward: -9.548195999999994 after 32 Episodes\n",
      "Total Reward: -9.061196999999991 after 33 Episodes\n",
      "Total Reward: -7.825607999999995 after 34 Episodes\n",
      "Total Reward: -9.246108999999995 after 35 Episodes\n",
      "Total Reward: -9.69604099999999 after 36 Episodes\n",
      "Total Reward: -9.066293999999996 after 37 Episodes\n",
      "Total Reward: -7.768407999999994 after 38 Episodes\n",
      "Total Reward: -9.85389299999999 after 39 Episodes\n",
      "Total Reward: -9.497932999999994 after 40 Episodes\n",
      "Total Reward: -8.99772499999999 after 41 Episodes\n",
      "Total Reward: -7.601123999999997 after 42 Episodes\n",
      "Total Reward: -8.498856999999994 after 43 Episodes\n",
      "Total Reward: -8.129400999999996 after 44 Episodes\n",
      "Total Reward: -9.523048999999995 after 45 Episodes\n",
      "Total Reward: -9.388021999999994 after 46 Episodes\n",
      "Total Reward: -8.730283999999992 after 47 Episodes\n",
      "Total Reward: -8.368389999999994 after 48 Episodes\n",
      "Total Reward: -8.844834999999991 after 49 Episodes\n",
      "Total Reward: -8.763486999999992 after 50 Episodes\n",
      "Total Reward: -8.969464999999994 after 51 Episodes\n",
      "Total Reward: -8.552818999999992 after 52 Episodes\n",
      "Total Reward: -10.920898 after 53 Episodes\n",
      "Total Reward: -9.779970999999994 after 54 Episodes\n",
      "Total Reward: -10.20031999999999 after 55 Episodes\n",
      "Total Reward: -8.302341999999994 after 56 Episodes\n",
      "Total Reward: -8.63556899999999 after 57 Episodes\n",
      "Total Reward: -9.587492000000001 after 58 Episodes\n",
      "Total Reward: -9.069222999999996 after 59 Episodes\n",
      "Total Reward: -8.760485999999995 after 60 Episodes\n",
      "Total Reward: -8.042783999999997 after 61 Episodes\n",
      "Total Reward: -11.422876999999996 after 62 Episodes\n",
      "Total Reward: -9.254050999999995 after 63 Episodes\n",
      "Total Reward: -7.8546019999999945 after 64 Episodes\n",
      "Total Reward: -7.301220999999993 after 65 Episodes\n",
      "Total Reward: -9.087512999999996 after 66 Episodes\n",
      "Total Reward: -7.492189999999993 after 67 Episodes\n",
      "Total Reward: -9.723423999999998 after 68 Episodes\n",
      "Total Reward: -10.345333999999996 after 69 Episodes\n",
      "Total Reward: -8.756083999999992 after 70 Episodes\n",
      "Total Reward: -7.467627999999993 after 71 Episodes\n",
      "Total Reward: -8.444768999999994 after 72 Episodes\n",
      "Total Reward: -8.183085999999994 after 73 Episodes\n"
     ]
    }
   ],
   "source": [
    "agent = DQNAgent(network, dataset, state_size=(dataset.X.shape[1],), action_size=(len(np.unique(dataset.y))), memory=deque(maxlen=2000), gamma = 0.95,epsilon=1.0)\n",
    "agent.train_personality(150, 100)"
   ]
  },
  {
   "cell_type": "code",
   "execution_count": null,
   "metadata": {},
   "outputs": [],
   "source": [
    "agent.save_model('personality_150.h5')  "
   ]
  },
  {
   "cell_type": "code",
   "execution_count": null,
   "metadata": {},
   "outputs": [],
   "source": [
    "# Testing the model\n",
    "total_reward = 0\n",
    "train_labels = []\n",
    "train_predictions = []\n",
    "test_labels = []\n",
    "test_predictions = []\n",
    "\n",
    "for index, state in enumerate(agent.dataset.X_train):\n",
    "    label = agent.dataset.y_train[index]\n",
    "    state = np.reshape(state, [-1, agent.state_size[0]])\n",
    "    action = agent.act(state)\n",
    "    # action = np.argmax(self.network.model.predict(image), axis=1)\n",
    "    reward, terminal = agent.get_reward_and_terminal(label, action)\n",
    "    total_reward += reward\n",
    "    train_labels.append(label)\n",
    "    train_predictions.append(action)"
   ]
  },
  {
   "cell_type": "code",
   "execution_count": null,
   "metadata": {},
   "outputs": [],
   "source": [
    "from sklearn import metrics"
   ]
  },
  {
   "cell_type": "code",
   "execution_count": null,
   "metadata": {},
   "outputs": [],
   "source": [
    "metrics.accuracy_score(train_labels, train_predictions) * 100"
   ]
  },
  {
   "cell_type": "code",
   "execution_count": null,
   "metadata": {},
   "outputs": [],
   "source": [
    "agent.evaluate_personality()"
   ]
  },
  {
   "cell_type": "code",
   "execution_count": null,
   "metadata": {},
   "outputs": [],
   "source": [
    "\"HAHAH\""
   ]
  },
  {
   "cell_type": "code",
   "execution_count": null,
   "metadata": {},
   "outputs": [],
   "source": [
    "image_size = (256, 256)\n",
    "channels = 3\n",
    "batch_size = 32\n",
    "action_size = 5\n",
    "\n",
    "gamma = 0.95\n",
    "epsilon = 1.0\n",
    "learning_rate = 1e-4\n",
    "\n",
    "episodes = 100"
   ]
  },
  {
   "cell_type": "code",
   "execution_count": null,
   "metadata": {},
   "outputs": [],
   "source": [
    "dataset = Cifar10ImageDataset(20)\n",
    "        \n",
    "network = DQNetwork(state_size=(32, 32, 3), action_size=10, learning_rate = 1e-4)\n",
    "\n",
    "agent = DQNAgent(network, dataset, state_size=(32, 32, 3), action_size = 10, memory=deque(maxlen=2000), gamma = 0.95,epsilon=1.0)\n",
    "agent.train_cifar10(50)\n",
    "# agent.save_model(\"./model/cifar10_model.h5\")\n"
   ]
  },
  {
   "cell_type": "code",
   "execution_count": null,
   "metadata": {},
   "outputs": [],
   "source": [
    "agent.evaluate_cifar10()"
   ]
  },
  {
   "cell_type": "code",
   "execution_count": null,
   "metadata": {},
   "outputs": [],
   "source": [
    "dataset = CassavaLeafDataset(image_size=image_size, batch_size=batch_size)"
   ]
  },
  {
   "cell_type": "code",
   "execution_count": null,
   "metadata": {},
   "outputs": [],
   "source": [
    "network = DQNetwork(state_size=(image_size[0], image_size[1], channels), action_size=action_size, learning_rate = learning_rate)"
   ]
  },
  {
   "cell_type": "code",
   "execution_count": null,
   "metadata": {},
   "outputs": [],
   "source": [
    "agent = DQNAgent(network, dataset, state_size=image_size + (channels), action_size=action_size, memory=deque(maxlen=2000), gamma=gamma, epsilon=epsilon)"
   ]
  },
  {
   "cell_type": "code",
   "execution_count": null,
   "metadata": {},
   "outputs": [],
   "source": [
    "agent.train(episodes)"
   ]
  },
  {
   "cell_type": "code",
   "execution_count": null,
   "metadata": {},
   "outputs": [],
   "source": [
    "agent.evaluate()  "
   ]
  }
 ],
 "metadata": {
  "kernelspec": {
   "display_name": "Python 3 (ipykernel)",
   "language": "python",
   "name": "python3"
  },
  "language_info": {
   "codemirror_mode": {
    "name": "ipython",
    "version": 3
   },
   "file_extension": ".py",
   "mimetype": "text/x-python",
   "name": "python",
   "nbconvert_exporter": "python",
   "pygments_lexer": "ipython3",
   "version": "3.11.5"
  }
 },
 "nbformat": 4,
 "nbformat_minor": 2
}
