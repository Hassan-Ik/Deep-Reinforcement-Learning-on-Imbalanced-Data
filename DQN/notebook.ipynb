{
 "cells": [
  {
   "cell_type": "code",
   "execution_count": 5,
   "metadata": {},
   "outputs": [],
   "source": [
    "# !pip install tensorflow\n",
    "import tensorflow as tf\n",
    "import numpy as np\n",
    "import pandas as pd\n",
    "from sklearn.utils import shuffle\n",
    "from collections import deque\n",
    "import random\n",
    "from qnetwork import DQNetwork\n",
    "from dataset import CustomImageDataset\n",
    "from agent import DQNAgent"
   ]
  },
  {
   "cell_type": "code",
   "execution_count": 6,
   "metadata": {},
   "outputs": [],
   "source": [
    "def reading_csv(folder_path: str, file_path: str):\n",
    "    df = pd.read_csv(file_path)\n",
    "    df = shuffle(df, random_state=42)\n",
    "    df[\"filepath\"] = folder_path + df[\"image_id\"]\n",
    "    return df"
   ]
  },
  {
   "cell_type": "code",
   "execution_count": 7,
   "metadata": {},
   "outputs": [],
   "source": [
    "df = reading_csv(\"../cassava-leaf-disease-classification/train_images\", \"../cassava-leaf-disease-classification/train.csv\")"
   ]
  },
  {
   "cell_type": "code",
   "execution_count": 8,
   "metadata": {},
   "outputs": [
    {
     "data": {
      "text/html": [
       "<div>\n",
       "<style scoped>\n",
       "    .dataframe tbody tr th:only-of-type {\n",
       "        vertical-align: middle;\n",
       "    }\n",
       "\n",
       "    .dataframe tbody tr th {\n",
       "        vertical-align: top;\n",
       "    }\n",
       "\n",
       "    .dataframe thead th {\n",
       "        text-align: right;\n",
       "    }\n",
       "</style>\n",
       "<table border=\"1\" class=\"dataframe\">\n",
       "  <thead>\n",
       "    <tr style=\"text-align: right;\">\n",
       "      <th></th>\n",
       "      <th>image_id</th>\n",
       "      <th>label</th>\n",
       "      <th>filepath</th>\n",
       "    </tr>\n",
       "  </thead>\n",
       "  <tbody>\n",
       "    <tr>\n",
       "      <th>9134</th>\n",
       "      <td>2615227158.jpg</td>\n",
       "      <td>4</td>\n",
       "      <td>../cassava-leaf-disease-classification/train_i...</td>\n",
       "    </tr>\n",
       "    <tr>\n",
       "      <th>1580</th>\n",
       "      <td>1277648239.jpg</td>\n",
       "      <td>3</td>\n",
       "      <td>../cassava-leaf-disease-classification/train_i...</td>\n",
       "    </tr>\n",
       "    <tr>\n",
       "      <th>7304</th>\n",
       "      <td>2305895487.jpg</td>\n",
       "      <td>3</td>\n",
       "      <td>../cassava-leaf-disease-classification/train_i...</td>\n",
       "    </tr>\n",
       "    <tr>\n",
       "      <th>13196</th>\n",
       "      <td>336299725.jpg</td>\n",
       "      <td>2</td>\n",
       "      <td>../cassava-leaf-disease-classification/train_i...</td>\n",
       "    </tr>\n",
       "    <tr>\n",
       "      <th>5333</th>\n",
       "      <td>1951270318.jpg</td>\n",
       "      <td>2</td>\n",
       "      <td>../cassava-leaf-disease-classification/train_i...</td>\n",
       "    </tr>\n",
       "    <tr>\n",
       "      <th>1453</th>\n",
       "      <td>1254294690.jpg</td>\n",
       "      <td>3</td>\n",
       "      <td>../cassava-leaf-disease-classification/train_i...</td>\n",
       "    </tr>\n",
       "    <tr>\n",
       "      <th>1527</th>\n",
       "      <td>1269832262.jpg</td>\n",
       "      <td>3</td>\n",
       "      <td>../cassava-leaf-disease-classification/train_i...</td>\n",
       "    </tr>\n",
       "    <tr>\n",
       "      <th>2767</th>\n",
       "      <td>1481899695.jpg</td>\n",
       "      <td>3</td>\n",
       "      <td>../cassava-leaf-disease-classification/train_i...</td>\n",
       "    </tr>\n",
       "    <tr>\n",
       "      <th>7895</th>\n",
       "      <td>240469234.jpg</td>\n",
       "      <td>3</td>\n",
       "      <td>../cassava-leaf-disease-classification/train_i...</td>\n",
       "    </tr>\n",
       "    <tr>\n",
       "      <th>19003</th>\n",
       "      <td>546602360.jpg</td>\n",
       "      <td>3</td>\n",
       "      <td>../cassava-leaf-disease-classification/train_i...</td>\n",
       "    </tr>\n",
       "  </tbody>\n",
       "</table>\n",
       "</div>"
      ],
      "text/plain": [
       "             image_id  label  \\\n",
       "9134   2615227158.jpg      4   \n",
       "1580   1277648239.jpg      3   \n",
       "7304   2305895487.jpg      3   \n",
       "13196   336299725.jpg      2   \n",
       "5333   1951270318.jpg      2   \n",
       "1453   1254294690.jpg      3   \n",
       "1527   1269832262.jpg      3   \n",
       "2767   1481899695.jpg      3   \n",
       "7895    240469234.jpg      3   \n",
       "19003   546602360.jpg      3   \n",
       "\n",
       "                                                filepath  \n",
       "9134   ../cassava-leaf-disease-classification/train_i...  \n",
       "1580   ../cassava-leaf-disease-classification/train_i...  \n",
       "7304   ../cassava-leaf-disease-classification/train_i...  \n",
       "13196  ../cassava-leaf-disease-classification/train_i...  \n",
       "5333   ../cassava-leaf-disease-classification/train_i...  \n",
       "1453   ../cassava-leaf-disease-classification/train_i...  \n",
       "1527   ../cassava-leaf-disease-classification/train_i...  \n",
       "2767   ../cassava-leaf-disease-classification/train_i...  \n",
       "7895   ../cassava-leaf-disease-classification/train_i...  \n",
       "19003  ../cassava-leaf-disease-classification/train_i...  "
      ]
     },
     "execution_count": 8,
     "metadata": {},
     "output_type": "execute_result"
    }
   ],
   "source": [
    "df[:10]"
   ]
  },
  {
   "cell_type": "code",
   "execution_count": 10,
   "metadata": {},
   "outputs": [
    {
     "name": "stdout",
     "output_type": "stream",
     "text": [
      "No of total samples in dataset and their distribution:  (array([0, 1, 2, 3, 4], dtype=int64), array([ 2,  9, 12, 68,  9], dtype=int64))\n",
      "\n",
      "Reward for each class.\n",
      "\t- Class 0 : 0.941802\n",
      "\t- Class 1 : 0.209289\n",
      "\t- Class 2 : 0.156967\n",
      "\t- Class 3 : 0.027700\n",
      "\t- Class 4 : 0.209289\n",
      "Label is  [0 1 2 3 4]\n",
      "Labels with ount {}\n",
      "{0: 2, 1: 9, 2: 12, 3: 68, 4: 9}\n"
     ]
    }
   ],
   "source": [
    "dataset = CustomImageDataset(df[:100].drop(columns=[\"label\"]), df[:100][\"label\"], (256, 256))"
   ]
  },
  {
   "cell_type": "code",
   "execution_count": null,
   "metadata": {},
   "outputs": [],
   "source": []
  },
  {
   "cell_type": "code",
   "execution_count": null,
   "metadata": {},
   "outputs": [],
   "source": []
  },
  {
   "cell_type": "code",
   "execution_count": null,
   "metadata": {},
   "outputs": [],
   "source": []
  },
  {
   "cell_type": "code",
   "execution_count": 33,
   "metadata": {},
   "outputs": [],
   "source": []
  },
  {
   "cell_type": "code",
   "execution_count": null,
   "metadata": {},
   "outputs": [],
   "source": []
  },
  {
   "cell_type": "code",
   "execution_count": null,
   "metadata": {},
   "outputs": [],
   "source": []
  },
  {
   "cell_type": "code",
   "execution_count": null,
   "metadata": {},
   "outputs": [],
   "source": []
  }
 ],
 "metadata": {
  "kernelspec": {
   "display_name": "venv",
   "language": "python",
   "name": "python3"
  },
  "language_info": {
   "codemirror_mode": {
    "name": "ipython",
    "version": 3
   },
   "file_extension": ".py",
   "mimetype": "text/x-python",
   "name": "python",
   "nbconvert_exporter": "python",
   "pygments_lexer": "ipython3",
   "version": "3.11.5"
  }
 },
 "nbformat": 4,
 "nbformat_minor": 2
}
